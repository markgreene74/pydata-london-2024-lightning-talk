{
 "cells": [
  {
   "cell_type": "markdown",
   "id": "2685b715-4dd8-4288-bdcd-6beff557f336",
   "metadata": {},
   "source": [
    "# Example 1 - Jupyter notebook -> Python file"
   ]
  },
  {
   "cell_type": "markdown",
   "id": "c3361c09-00d8-42ec-9edf-74f06a3eaa92",
   "metadata": {},
   "source": [
    "This example is taken from the Seaborn documentation (https://seaborn.pydata.org/examples/multiple_regression.html)"
   ]
  },
  {
   "cell_type": "code",
   "execution_count": null,
   "id": "1988a863-f917-428e-8cbd-f7d5b1d07ff9",
   "metadata": {},
   "outputs": [],
   "source": [
    "import seaborn as sns\n",
    "sns.set_theme()\n",
    "\n",
    "# Load the penguins dataset\n",
    "penguins = sns.load_dataset(\"penguins\")\n",
    "\n",
    "# Plot sepal width as a function of sepal_length across days\n",
    "g = sns.lmplot(\n",
    "    data=penguins,\n",
    "    x=\"bill_length_mm\", y=\"bill_depth_mm\", hue=\"species\",\n",
    "    height=5\n",
    ")\n",
    "\n",
    "# Use more informative axis labels than are provided by default\n",
    "g.set_axis_labels(\"Snoot length (mm)\", \"Snoot depth (mm)\")"
   ]
  },
  {
   "cell_type": "markdown",
   "id": "357411eb-41a6-47e2-8699-c0104d3508fd",
   "metadata": {},
   "source": [
    "Make some changes to the notebook and check the output of `pre-commit`, for example try un-commenting all the lines in the cell below and then run it.\n",
    "\n",
    "The first line should trigger `flake8`, while the following lines should trigger `black`."
   ]
  },
  {
   "cell_type": "code",
   "execution_count": null,
   "id": "e6db5a13-9a4c-47b7-b5a9-9963c606da51",
   "metadata": {},
   "outputs": [],
   "source": [
    "# import re\n",
    "# print(\n",
    "#     (\n",
    "#     \"Hello\"\n",
    "#     \"World\"\n",
    "# )                 )"
   ]
  },
  {
   "cell_type": "markdown",
   "id": "613b32cb-1fca-451e-b43d-494106ca38ab",
   "metadata": {},
   "source": [
    "And then run the next cell to execute `pre-commit`."
   ]
  },
  {
   "cell_type": "code",
   "execution_count": null,
   "id": "13191445-cfbb-4d3e-bb42-b22c44f58085",
   "metadata": {},
   "outputs": [],
   "source": [
    "!pre-commit run --files example-1.py"
   ]
  },
  {
   "cell_type": "markdown",
   "id": "9e0daeff-923a-43ba-933a-8417e830efca",
   "metadata": {},
   "source": [
    "The output of `pre-commit` will show that `black` and `flake8` failed:\n",
    "\n",
    "```\n",
    "black....................................................................Failed\n",
    "- hook id: black\n",
    "- exit code: 1\n",
    "\n",
    "would reformat notebooks/example-1.py\n",
    "\n",
    "Oh no! 💥 💔 💥\n",
    "1 file would be reformatted.\n",
    "\n",
    "flake8...................................................................Failed\n",
    "- hook id: flake8\n",
    "- exit code: 1\n",
    "\n",
    "notebooks/example-1.py:44:1: F401 're' imported but unused\n",
    "notebooks/example-1.py:47:5: E122 continuation line missing indentation or outdented\n",
    "notebooks/example-1.py:48:5: E122 continuation line missing indentation or outdented\n",
    "notebooks/example-1.py:49:1: E122 continuation line missing indentation or outdented\n",
    "notebooks/example-1.py:49:18: E202 whitespace before ')'\n",
    "```"
   ]
  }
 ],
 "metadata": {
  "kernelspec": {
   "display_name": "Python 3 (ipykernel)",
   "language": "python",
   "name": "python3"
  },
  "language_info": {
   "codemirror_mode": {
    "name": "ipython",
    "version": 3
   },
   "file_extension": ".py",
   "mimetype": "text/x-python",
   "name": "python",
   "nbconvert_exporter": "python",
   "pygments_lexer": "ipython3",
   "version": "3.12.4"
  }
 },
 "nbformat": 4,
 "nbformat_minor": 5
}
